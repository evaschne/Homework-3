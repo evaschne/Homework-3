{
 "cells": [
  {
   "cell_type": "code",
   "execution_count": 26,
   "id": "945538ac",
   "metadata": {},
   "outputs": [
    {
     "name": "stdout",
     "output_type": "stream",
     "text": [
      "No entry found with that name.\n",
      "No entry found with that name.\n",
      "90\n"
     ]
    }
   ],
   "source": [
    "def print_student(student_name):\n",
    "    marks =  {'Andy':88, 'Amy':66, 'James':90, 'Jules':55, 'Arthur':77}\n",
    "    for student in marks:\n",
    "        if student == student_name:\n",
    "            print(marks[student])\n",
    "            break\n",
    "        else:\n",
    "            print(\"No entry found with that name.\")\n",
    "            \n",
    "print_student(\"James\")"
   ]
  },
  {
   "cell_type": "code",
   "execution_count": 59,
   "id": "cf0593e0",
   "metadata": {},
   "outputs": [
    {
     "name": "stdout",
     "output_type": "stream",
     "text": [
      "the average is 75.2\n"
     ]
    }
   ],
   "source": [
    "def average():\n",
    "    grades = (88, 66, 90, 55, 77)\n",
    "    print(\"the average is\", sum(grades)/len(grades))\n",
    "        \n",
    "average()"
   ]
  },
  {
   "cell_type": "code",
   "execution_count": 3,
   "id": "673c05fb",
   "metadata": {},
   "outputs": [
    {
     "name": "stdout",
     "output_type": "stream",
     "text": [
      "0 0\n",
      "1 1\n",
      "2 4\n",
      "3 9\n",
      "4 16\n",
      "5 25\n",
      "6 36\n",
      "7 49\n",
      "Greater than 8\n"
     ]
    }
   ],
   "source": [
    "def printout(num):\n",
    "    n=0\n",
    "    while n<num:\n",
    "        print(n, n*n)\n",
    "        n+=1\n",
    "    else:\n",
    "        print(\"Greater than\", n)\n",
    "        \n",
    "printout(8)"
   ]
  },
  {
   "cell_type": "code",
   "execution_count": 6,
   "id": "195b6def",
   "metadata": {},
   "outputs": [
    {
     "name": "stdout",
     "output_type": "stream",
     "text": [
      "36\n"
     ]
    }
   ],
   "source": [
    "def sumfunction(num):\n",
    "    n = 1\n",
    "    sum = 0\n",
    "    while n <= num:\n",
    "        sum = sum + n\n",
    "        n = n + 1\n",
    "    print(sum)\n",
    "sumfunction(8)"
   ]
  },
  {
   "cell_type": "code",
   "execution_count": 34,
   "id": "75c2acca",
   "metadata": {},
   "outputs": [
    {
     "name": "stdout",
     "output_type": "stream",
     "text": [
      "1 1\n",
      "3 2\n",
      "6 3\n",
      "10 4\n",
      "15 5\n",
      "21 6\n",
      "28 7\n",
      "36 8\n"
     ]
    }
   ],
   "source": [
    "def sumfunction(num):\n",
    "    n = 1\n",
    "    sum = 0\n",
    "    while n <= num:\n",
    "        sum = sum + n\n",
    "        n = n + 1\n",
    "    print(sum)\n",
    "  \n",
    "total = 0\n",
    "for number in [1,2,3,4,5,6,7, 8]:\n",
    "    total = total + number\n",
    "    print(total, number)"
   ]
  },
  {
   "cell_type": "code",
   "execution_count": 16,
   "id": "76e47424",
   "metadata": {},
   "outputs": [
    {
     "data": {
      "text/plain": [
       "50.0"
      ]
     },
     "execution_count": 16,
     "metadata": {},
     "output_type": "execute_result"
    }
   ],
   "source": [
    "list = [range(1,100)]\n",
    "\n",
    "def average(*list):\n",
    "    return sum(*list) / len(*list)\n",
    "\n",
    "average(*list)"
   ]
  },
  {
   "cell_type": "code",
   "execution_count": 18,
   "id": "6ab44766",
   "metadata": {},
   "outputs": [
    {
     "data": {
      "text/plain": [
       "4950"
      ]
     },
     "execution_count": 18,
     "metadata": {},
     "output_type": "execute_result"
    }
   ],
   "source": [
    "sum(*list)"
   ]
  },
  {
   "cell_type": "code",
   "execution_count": 29,
   "id": "35c6acbc",
   "metadata": {},
   "outputs": [
    {
     "name": "stdout",
     "output_type": "stream",
     "text": [
      "28.86607004772212\n"
     ]
    }
   ],
   "source": [
    "import statistics\n",
    "list = (range(100))\n",
    "res = statistics.pstdev(list)\n",
    "print(str(res))"
   ]
  },
  {
   "cell_type": "code",
   "execution_count": 7,
   "id": "af895f9a",
   "metadata": {},
   "outputs": [
    {
     "data": {
      "text/plain": [
       "2"
      ]
     },
     "execution_count": 7,
     "metadata": {},
     "output_type": "execute_result"
    }
   ],
   "source": [
    "def minimal(v1, v2, v3, v4):\n",
    "    min_value = v1\n",
    "    if v2 < min_value:\n",
    "        min_value = v2\n",
    "    if v3 < min_value:\n",
    "        min_value = v3\n",
    "    if v4 < min_value:\n",
    "        min_value = v4\n",
    "    return min_value\n",
    "\n",
    "minimal(10, 26, 2, 107)    "
   ]
  },
  {
   "cell_type": "code",
   "execution_count": 54,
   "id": "1f0d8c44",
   "metadata": {},
   "outputs": [
    {
     "name": "stdout",
     "output_type": "stream",
     "text": [
      "zwxytuvrs\n"
     ]
    }
   ],
   "source": [
    "def concat(list_args):\n",
    "    res = \"\"\n",
    "    for w in list_args:\n",
    "        res += w\n",
    "    return res\n",
    "\n",
    "print(concat(['z', 'wxy', 'tuv', 'rs']))"
   ]
  }
 ],
 "metadata": {
  "kernelspec": {
   "display_name": "Python 3 (ipykernel)",
   "language": "python",
   "name": "python3"
  },
  "language_info": {
   "codemirror_mode": {
    "name": "ipython",
    "version": 3
   },
   "file_extension": ".py",
   "mimetype": "text/x-python",
   "name": "python",
   "nbconvert_exporter": "python",
   "pygments_lexer": "ipython3",
   "version": "3.9.13"
  }
 },
 "nbformat": 4,
 "nbformat_minor": 5
}
